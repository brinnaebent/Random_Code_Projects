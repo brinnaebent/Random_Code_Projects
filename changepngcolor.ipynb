{
 "cells": [
  {
   "cell_type": "code",
   "execution_count": 4,
   "metadata": {},
   "outputs": [],
   "source": [
    "from PIL import Image\n",
    "import os\n",
    "import numpy as np"
   ]
  },
  {
   "cell_type": "code",
   "execution_count": 5,
   "metadata": {},
   "outputs": [],
   "source": [
    "def convertColor(filename, color):\n",
    "    im = Image.open(filename)\n",
    "    im = im.convert('RGBA')\n",
    "    data = np.array(im)\n",
    "    \n",
    "    listofcolors = list(im.getcolors())\n",
    "    colors = []\n",
    "    for i in range(0, len(listofcolors)):\n",
    "        alist = list(listofcolors[i][1])\n",
    "        del alist[-1]\n",
    "        colors.append(alist)\n",
    "    \n",
    "    listtochange = []\n",
    "    for i in range(0, len(colors)):\n",
    "        if colors[i] != [0,0,0]:\n",
    "            if colors[i] != [255,0,0]:\n",
    "                listtochange.append(colors[i])\n",
    "    \n",
    "    r2 = color[0]\n",
    "    g2 = color[1]\n",
    "    b2 = color[2]\n",
    "\n",
    "    for i in range(0, len(listtochange)):\n",
    "        data = np.array(im)\n",
    "        r1 = listtochange[i][0]\n",
    "        g1 = listtochange[i][1]\n",
    "        b1 = listtochange[i][2]\n",
    "\n",
    "        red, green, blue = data[:,:,0], data[:,:,1], data[:,:,2]\n",
    "        mask = (red == r1) & (green == g1) & (blue == b1)\n",
    "        data[:,:,:3][mask] = [r2, g2, b2]\n",
    "        im = Image.fromarray(data)\n",
    "\n",
    "    im.save(('unnamed_test.png'))"
   ]
  },
  {
   "cell_type": "code",
   "execution_count": 6,
   "metadata": {},
   "outputs": [],
   "source": [
    "color = [0,0,250]\n",
    "convertColor('unnamed.png', color)"
   ]
  },
  {
   "cell_type": "code",
   "execution_count": null,
   "metadata": {},
   "outputs": [],
   "source": []
  }
 ],
 "metadata": {
  "kernelspec": {
   "display_name": "Python 3",
   "language": "python",
   "name": "python3"
  },
  "language_info": {
   "codemirror_mode": {
    "name": "ipython",
    "version": 3
   },
   "file_extension": ".py",
   "mimetype": "text/x-python",
   "name": "python",
   "nbconvert_exporter": "python",
   "pygments_lexer": "ipython3",
   "version": "3.6.9"
  }
 },
 "nbformat": 4,
 "nbformat_minor": 4
}
